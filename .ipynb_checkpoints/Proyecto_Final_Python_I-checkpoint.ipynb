{
 "cells": [
  {
   "cell_type": "markdown",
   "id": "indoor-intent",
   "metadata": {},
   "source": [
    "# Proyecto Final. API Spotipy."
   ]
  },
  {
   "cell_type": "code",
   "execution_count": 40,
   "id": "consistent-plain",
   "metadata": {},
   "outputs": [],
   "source": [
    "###Importando bibliotecas \n"
   ]
  },
  {
   "cell_type": "code",
   "execution_count": 41,
   "id": "periodic-purple",
   "metadata": {},
   "outputs": [],
   "source": [
    "import pandas as pd\n",
    "import spotipy\n",
    "import matplotlib.pyplot as plt \n",
    "import matplotlib\n",
    "import numpy as np"
   ]
  },
  {
   "cell_type": "code",
   "execution_count": 42,
   "id": "expensive-diary",
   "metadata": {},
   "outputs": [],
   "source": [
    "###Definiendo parametros de seguridad\n",
    "#Client ID 3d71e26a146f4bb38718c23bae2b22ae\n",
    "#Client Secret 7461f5bf7c274e30a6e929f994dba20a"
   ]
  },
  {
   "cell_type": "code",
   "execution_count": 43,
   "id": "medium-signature",
   "metadata": {},
   "outputs": [
    {
     "name": "stdout",
     "output_type": "stream",
     "text": [
      "Introduzca el ID del usuario/artista que desea consultar: \n",
      "12171294339\n",
      "   1 2Jg66f14ScWSebTt7a5T2h Desamor\n",
      "   2 37i9dQZF1DWVV27DiNWxkR Sad Indie\n",
      "   3 37i9dQZF1DWWlQuz77tGe5 This is Of Monsters and Men\n",
      "   4 5yQrACSzw53fqlbQDXHkK5 Favoritas de la radio\n",
      "   5 37i9dQZF1DX50QitC6Oqtn Love Pop\n",
      "   6 6R5s2d0D0jHqHKhSfGuif4 Homework Tunes\n",
      "   7 37i9dQZF1DX1lVhptIYRda Hot Country\n"
     ]
    }
   ],
   "source": [
    "import spotipy\n",
    "from spotipy.oauth2 import SpotifyClientCredentials\n",
    "\n",
    "print('Introduzca el ID del usuario/artista que desea consultar: ')\n",
    "id_user = input()\n",
    "\n",
    "auth_manager = SpotifyClientCredentials()\n",
    "sp = spotipy.Spotify(auth_manager=auth_manager)\n",
    "\n",
    "playlists = sp.user_playlists(id_user)\n",
    "\n",
    "listas = []\n",
    "\n",
    "for i, playlist in enumerate(playlists['items']):\n",
    "    playlist_clean = playlist['uri']\n",
    "    listas.append([i + 1, playlist_clean[17:],  playlist['name']])\n",
    "    print(\"%4d %s %s\" % (i + 1, playlist_clean[17:],  playlist['name']))\n",
    "           \n",
    "    \n",
    "    "
   ]
  },
  {
   "cell_type": "code",
   "execution_count": 44,
   "id": "occupied-atmosphere",
   "metadata": {},
   "outputs": [
    {
     "name": "stdout",
     "output_type": "stream",
     "text": [
      "Elige el número de la lista que deseas consultar:  \n",
      "1\n"
     ]
    }
   ],
   "source": [
    "print('Elige el número de la lista que deseas consultar:  ')\n",
    "index_list = int(input())-1\n",
    "\n"
   ]
  },
  {
   "cell_type": "code",
   "execution_count": 45,
   "id": "consolidated-effect",
   "metadata": {},
   "outputs": [
    {
     "name": "stdout",
     "output_type": "stream",
     "text": [
      "78\n",
      "['1Nf60AnYxFl1xvZo12FZOV', '4McNXMj0Z47n7PairFFYln', '6VZMIyzOupI4vA68RaUgXb', '4NUt1fcnO9aQAELBgXq3Kr', '63Zaf8Rci6eOUPqDQ4fUFx', '2vCHDrXVN0k1GPTjSIZ69E', '4waqcUQWdj0yH26STWl2Rq', '79mdw3IznNCFsF7R9O2KGz', '6d2cGa5GRYFIPKxDtuI1ii', '0fl9zrtFxmZEE3sx7RbS7k', '3dR0PckAvfJBNyRHl6mLNf', '0lPXFrKyl8HkdQ2E6NmNja', '5EbtodsuLbxrFDH6j5avVS', '0jagsVVkxwxhmTIicnOaon', '1I1DRPWM8iIYEbsuGMbaR3', '3rtxFFGZ10e2vYBo7PsPf2', '4F6lDDi3q1Xdum015op2NS', '3V2mMmVm5PmB23dM40aZVz', '2EI0oMlblptqVqHRo05UdT', '3YtYPYYUP1dCRLM7PJ1j9V', '29csiYMOfBmLmGwxmISrMy', '4iqXKJhwbOtOT5aHZr7Fxj', '1X135cHn5NKT1A5c2zS7o1', '4BBJezanyqAj6rRC1fKIg4', '4E4IYliBvPWdrSmNMcuiRN', '36Sk0Cm9k3thf9F8C1Qd8E', '26waqvvTo7eyRIApBjY5jM', '7F1oLjSguGBvqsJLal7Rad', '072YgF7J2clpY8DsWOpEri', '79JmiMbLM2NpfNE3qKi58r', '6XLobzCdi98lFcxG3eGYNr', '3hTws9UVZRfM3xBx088KKe', '5wWxUdgn2OugIOvLJOdreH', '3xrpI0GqWNMjMDOdXUOnK3', '7byP4Tul1sLESm3OsC6pO0', '0cftlm9IYJi4KoN1PDvR2V', '0PaNKfwdqHjmW7hVEQ0lbu', '78dbqYDvx6FOefROApu9w0', '0G0p7mc4wEaQTsUpzEmkEs', '4XPpkUjGECRqF2V9ioqI3S', '100Tm6z29RfHTdUQ6NIs0s', '7xVEvr9wPXLPU286pCfYM3', '4FsVB8msXzmemjJdTKUoal', '5NSJ0qoxwbO26tVvqpL4N2', '4hsISengUD6beOi6kUIcXl', '62clthR0fZmLbxeqxVJatQ', '7wUt1v2ddVqPayC8EKDp5P', '3RD0PGolM0mETGHaprwgMn', '1o4NhRBP3RSnK73rxfW4tU', '5EhzE6HJaCcLFrf5rPqvpk', '3OK8WgNRmp4F3ahXe6XX6l', '0BTBoi7AeMBrMP6cwOLNR0', '2H2Tg24kqd1eA3F7BSQFSi', '5UJsYyBi0CdSJl0ul5aTgO', '15Hx1oi6C3AxYhhvolqrJG', '1SjYzoNQlPv6TS6D6PlYAw', '4ToSegPTNl2894LRte8ice', '6Gusd5o0sQD1jmmoQlvNw4', '2RYg6EZEzAbU5Edr2Clg2E', '4D4Aj0HdOx1W8XIWo2pjbd', '1zRqRmZyE0bgXkSoVVaCwK', '4eE8rU7ymogVA74C8j2b2f', '2niUiaoJDCzNldW0pV66zb', '12KP3TP0BYKhYWp0H3YXtq', '0W8RPldmytO1ETl5OnuJjw', '3NotbAoyN09CuKaqWQP48U', '3gkmhin6ZYT6DUcw5CWa8H', '5znXf6RfeOEQhD5qkupv8C', '00JDinQstHYEciSn2CEGgF', '6IXrEQi71AjuBV8AItJP2L', '5czRuLp5tTxJJOUOUNLGej', '0TKD15GPvflAICDg2vfwKT', '15AbuFJdFrbINydSMSqVhV', '0wQCKR9OFjYu5Kzrk7WivJ', '7Apo6o7oxgFyXaSmdx6NHN', '0J6dOwflFSy3h1AoKmkqKc', '7mUFcQWYwoRxRa5ZfI2mHG', '66iygyOSvvoQQsKJ1vEXfT']\n"
     ]
    }
   ],
   "source": [
    "codigo_lista = listas[index_list][1]\n",
    "tracks_playlist = sp.playlist_items(codigo_lista, fields=None, limit=100, offset=0, market=None, additional_types=('track', ))\n",
    "\n",
    "def getTrackIDs(id_usr, code_list):\n",
    "    tracks_IDs=[]\n",
    "    playList = sp.user_playlist(id_usr, code_list)\n",
    "    for item in playList['tracks']['items']:\n",
    "        track=item['track']\n",
    "        tracks_IDs.append(track['id'])\n",
    "    return tracks_IDs\n",
    "\n",
    "tracks_IDs = getTrackIDs(id_user, codigo_lista)\n",
    "\n",
    "print(len(tracks_IDs))\n",
    "print(tracks_IDs)\n",
    "\n",
    "    \n",
    "    "
   ]
  },
  {
   "cell_type": "code",
   "execution_count": 47,
   "id": "square-diameter",
   "metadata": {},
   "outputs": [
    {
     "name": "stdout",
     "output_type": "stream",
     "text": [
      "                Artista           Nombre del Track  Valence  Energy\n",
      "0                   MYA                 Fuiste Mía    0.314   0.741\n",
      "1               Matisse                Ya No Estás    0.378   0.544\n",
      "2                  Reik                       Poco    0.800   0.522\n",
      "3   Alejandro Fernández      Me Dediqué a Perderte    0.465   0.442\n",
      "4                Camilo                   La Mitad    0.763   0.443\n",
      "..                  ...                        ...      ...     ...\n",
      "73       Alejandro Sanz             Corazón partío    0.815   0.846\n",
      "74              Shakira                  Si Te Vas    0.828   0.897\n",
      "75              Shakira  No (feat. Gustavo Cerati)    0.423   0.302\n",
      "76              Kalimba           Sólo Déjate Amar    0.165   0.490\n",
      "77       Franco De Vita              Tú de Qué Vas    0.567   0.629\n",
      "\n",
      "[78 rows x 4 columns]\n"
     ]
    }
   ],
   "source": [
    "def getTrackFeatures(id):\n",
    "    track_info = sp.track(id)\n",
    "    features_info = sp.audio_features(id)\n",
    "#Track info\n",
    "    Trackname = track_info['name']\n",
    "    artist = track_info['album']['artists'][0]['name']  \n",
    "    \n",
    "#features info\n",
    "    valence = features_info[0]['valence']\n",
    "    energy = features_info[0]['energy']\n",
    "    \n",
    "    track_data = [artist, Trackname, valence, energy]\n",
    "    return track_data\n",
    "\n",
    "track_list = []\n",
    "for i in range(len(tracks_IDs)):\n",
    "    track_data = getTrackFeatures(tracks_IDs[i])\n",
    "    track_list.append(track_data)\n",
    "    \n",
    "#print(track_list)\n",
    "\n",
    "view_playlist = pd.DataFrame(track_list, columns = ['Artista', 'Nombre del Track', 'Valence', 'Energy'])\n",
    "\n",
    "print(view_playlist)\n"
   ]
  },
  {
   "cell_type": "code",
   "execution_count": 48,
   "id": "expanded-brand",
   "metadata": {},
   "outputs": [
    {
     "data": {
      "image/png": "[encoded data removed]",
      "text/plain": [
       "<Figure size 432x288 with 1 Axes>"
      ]
     },
     "metadata": {
      "needs_background": "light"
     },
     "output_type": "display_data"
    }
   ],
   "source": [
    "# \n",
    "valence_graph = view_playlist['Valence']\n",
    "energy_graph = view_playlist['Energy']\n",
    "\n",
    "fig, ax = plt.subplots()\n",
    "ax.text(0.9, 0.9, 'Happy', color= 'blue')\n",
    "ax.text(0.1, 0.9, 'Angry', color='blue')\n",
    "ax.text(0.1, 0.1, 'Depressed', color='blue')\n",
    "ax.text(0.9, 0.1, 'Chill', color='blue')\n",
    "plt.plot(valence_graph, energy_graph, 'o')\n",
    "plt.xlim(0, 1)\n",
    "plt.ylim(0, 1)\n",
    "plt.grid()\n",
    "plt.axvline(x=0.5, ymin=0, ymax=1, color='black', lw = '0.8')\n",
    "plt.axhline(0.5, 0, 1, color='black', lw='0.8')\n",
    "plt.xlabel('Valence')\n",
    "plt.ylabel('Energy')\n",
    "plt.title('Music Feeling')\n",
    "plt.show()\n"
   ]
  },
  {
   "cell_type": "code",
   "execution_count": null,
   "id": "ranking-separate",
   "metadata": {},
   "outputs": [],
   "source": []
  },
  {
   "cell_type": "code",
   "execution_count": null,
   "id": "pressing-first",
   "metadata": {},
   "outputs": [],
   "source": []
  }
 ],
 "metadata": {
  "kernelspec": {
   "display_name": "Python 3",
   "language": "python",
   "name": "python3"
  },
  "language_info": {
   "codemirror_mode": {
    "name": "ipython",
    "version": 3
   },
   "file_extension": ".py",
   "mimetype": "text/x-python",
   "name": "python",
   "nbconvert_exporter": "python",
   "pygments_lexer": "ipython3",
   "version": "3.9.0"
  }
 },
 "nbformat": 4,
 "nbformat_minor": 5
}
